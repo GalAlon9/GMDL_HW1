{
 "cells": [
  {
   "attachments": {},
   "cell_type": "markdown",
   "metadata": {},
   "source": [
    "1.1 The Clique Functions in the Ising Model"
   ]
  },
  {
   "cell_type": "code",
   "execution_count": 7,
   "metadata": {},
   "outputs": [],
   "source": [
    "#Computer Exercise 1\n",
    "import numpy as np\n",
    "def G(row_s: np.ndarray, Temp: float):\n",
    "    return np.exp(np.sum(row_s[:-1] * row_s[1:]) / Temp)\n",
    " \n"
   ]
  },
  {
   "cell_type": "code",
   "execution_count": 12,
   "metadata": {},
   "outputs": [],
   "source": [
    "#Computer Exercise 2\n",
    "\n",
    "def F(row_s: np.ndarray, row_t: np.ndarray, Temp: float):\n",
    "    return np.exp(np.sum(row_s * row_t) / Temp)\n"
   ]
  },
  {
   "attachments": {},
   "cell_type": "markdown",
   "metadata": {},
   "source": [
    "1.2 Brute Force on Small Lattices\n",
    "Some of the computer exercises in this section require you to use an absurd\n",
    "number (from a programmer’s perspective) of nested loops. Thus, you can\n",
    "(but do not have to) exploit Python’s itertools module to make this a bit more\n",
    "elegant.\n",
    "compute ZTemp (for three different values of Temp where Temp ∈ {1, 1.5, 2})\n",
    "using brute force (use 4 nested For loops, one for each of the xs’s, the looping\n",
    "is done over the values that xs can take: {−1, 1}). To help you debug: For\n",
    "Temp = 1, your result should be ZTemp = 121.23 . . .."
   ]
  },
  {
   "cell_type": "code",
   "execution_count": 19,
   "metadata": {},
   "outputs": [
    {
     "name": "stdout",
     "output_type": "stream",
     "text": [
      "[[-1 -1]\n",
      " [-1  1]\n",
      " [ 1 -1]\n",
      " [ 1  1]]\n"
     ]
    }
   ],
   "source": [
    "from itertools import product\n",
    "rows = np.asarray(list(product([-1, 1], repeat=2)))\n",
    "print(rows)\n"
   ]
  },
  {
   "cell_type": "code",
   "execution_count": 62,
   "metadata": {},
   "outputs": [
    {
     "name": "stdout",
     "output_type": "stream",
     "text": [
      "121.23293134406595\n",
      "40.922799092745386\n",
      "27.048782764334526\n"
     ]
    }
   ],
   "source": [
    "#Computer Exercise 3\n",
    "from itertools import product\n",
    "\n",
    "def compute_ZTemp1(Temp: float):\n",
    "    Z = 0\n",
    "    vals = [-1, 1]\n",
    "\n",
    "    for x11 in vals:\n",
    "        for x12 in vals:\n",
    "            for x21 in vals:\n",
    "                for x22 in vals:\n",
    "                    Z += np.exp((x11*x21+ x12*x22 + x11*x12 + x21*x22)/Temp)\n",
    "\n",
    "    return Z\n",
    "\n",
    "temp = [1,1.5,2]\n",
    "for i in temp:\n",
    "    z = compute_ZTemp1(i)\n",
    "    print(z)\n",
    "    "
   ]
  },
  {
   "cell_type": "code",
   "execution_count": 28,
   "metadata": {},
   "outputs": [
    {
     "name": "stdout",
     "output_type": "stream",
     "text": [
      "365645.74913577037\n",
      "10565.421983514265\n",
      "2674.518123060087\n"
     ]
    }
   ],
   "source": [
    "#Computer Exercise 4\n",
    "\n",
    "import numpy as np\n",
    "\n",
    "import numpy as np\n",
    "\n",
    "def compute_ZTemp2(Temp: float):\n",
    "    Z = 0\n",
    "    vals = [-1, 1]\n",
    "\n",
    "    for x11 in vals:\n",
    "        for x12 in vals:\n",
    "            for x13 in vals:\n",
    "                for x21 in vals:\n",
    "                    for x22 in vals:\n",
    "                        for x23 in vals:\n",
    "                            for x31 in vals:\n",
    "                                for x32 in vals:\n",
    "                                    for x33 in vals:\n",
    "                                        energy = x11*x21 + x12*x22 + x13*x23 + x21*x31 + x22*x32 + x23*x33 + x11*x12 + x12*x13 + x21*x22 + x22*x23 + x31*x32 + x32*x33\n",
    "                                        Z += np.exp(energy/Temp)\n",
    "\n",
    "    return Z\n",
    "\n",
    "\n",
    "\n",
    "\n",
    "temp = [1,1.5,2]\n",
    "for i in temp:\n",
    "    z = compute_ZTemp2(i)\n",
    "    print(z)"
   ]
  },
  {
   "cell_type": "code",
   "execution_count": 35,
   "metadata": {},
   "outputs": [],
   "source": [
    "# computer exercise 5\n",
    "\n",
    "def y2row(y, width=2):\n",
    "    \"\"\"\n",
    "    y: an integer in (0,...,(2**width)-1)\n",
    "    \"\"\"\n",
    "    if not 0 <= y <= (2 ** width) - 1:\n",
    "        raise ValueError(y)\n",
    "    my_str=np.binary_repr(y,width=width)\n",
    "    # my_list = map(int,my_str) # Python 2\n",
    "    my_list = list(map(int,my_str)) # Python 3\n",
    "    my_array = np.asarray(my_list)\n",
    "    my_array[my_array==0]=-1\n",
    "    row = my_array\n",
    "    return row\n",
    "\n",
    "def compute_ZTemp3(Temp: float):\n",
    "    Z = 0\n",
    "    ys = [0,1,2,3]\n",
    "    rows = []\n",
    "    for y in ys:\n",
    "        rows.append(y2row(y, width=2))                       # convert to row vectors  \n",
    "\n",
    "    rows = np.asarray(rows)                                  # convert to numpy array\n",
    "    \n",
    "    for y1 in rows:\n",
    "        for y2 in rows:\n",
    "            Z += G(y1, Temp) * G(y2, Temp) * F(y1, y2, Temp) # required logic\n",
    "            \n",
    "    return Z"
   ]
  },
  {
   "cell_type": "code",
   "execution_count": 39,
   "metadata": {},
   "outputs": [
    {
     "name": "stdout",
     "output_type": "stream",
     "text": [
      "121.23293134406595\n",
      "40.922799092745386\n",
      "27.048782764334526\n"
     ]
    }
   ],
   "source": [
    "temp = [1,1.5,2]\n",
    "for i in temp:\n",
    "    z = compute_ZTemp3(i)\n",
    "    print(z)"
   ]
  },
  {
   "cell_type": "code",
   "execution_count": 41,
   "metadata": {},
   "outputs": [],
   "source": [
    "# computer exercise 6\n",
    "def compute_ZTemp4(Temp: float):\n",
    "    Z = 0\n",
    "    ys = [0,1,2,3,4,5,6,7]\n",
    "    rows = []\n",
    "    for y in ys:\n",
    "        rows.append(y2row(y, width=3))                       # convert to row vectors  \n",
    "\n",
    "    rows = np.asarray(rows)                                  # convert to numpy array\n",
    "    \n",
    "    for y1 in rows:\n",
    "        for y2 in rows:\n",
    "            for y3 in rows:\n",
    "                Z += G(y1, Temp) * G(y2, Temp) * G(y3, Temp) * F(y1, y2, Temp) * F(y2, y3, Temp)\n",
    "    return Z "
   ]
  },
  {
   "cell_type": "code",
   "execution_count": 42,
   "metadata": {},
   "outputs": [
    {
     "name": "stdout",
     "output_type": "stream",
     "text": [
      "365645.7491357704\n",
      "10565.421983514265\n",
      "2674.518123060087\n"
     ]
    }
   ],
   "source": [
    "temp = [1,1.5,2]\n",
    "for i in temp:\n",
    "    z = compute_ZTemp4(i)\n",
    "    print(z)"
   ]
  },
  {
   "cell_type": "markdown",
   "metadata": {},
   "source": [
    "1.3 Dynamic Programming on an 8×8 Lattice"
   ]
  },
  {
   "cell_type": "code",
   "execution_count": 80,
   "metadata": {},
   "outputs": [
    {
     "name": "stdout",
     "output_type": "stream",
     "text": [
      "[[0.4751031703562245, 0.024896829643775445, 0.024896829643775445, 0.4751031703562245], [0.9479149938275155, 0.3313106114932943, 0.3313106114932943, 0.017361668724161464, 0.017361668724161464, 0.3313106114932944, 0.006068165520116885, 0.017361668724161464, 0.017361668724161464, 0.006068165520116885, 0.3313106114932944, 0.017361668724161464, 0.017361668724161464, 0.3313106114932943, 0.3313106114932943, 0.9479149938275155]]\n",
      "*********\n",
      "[[[0.048376326919623604, 0.12289187730802734, 0.12289187730802734, 0.04680622680316243], [0.04680622680316243, 0.12289187730802734, 0.11890330349187024, 0.04680622680316243], [0.04680622680316243, 0.11890330349187024, 0.12289187730802734, 0.04680622680316243], [0.04680622680316243, 0.12289187730802734, 0.12289187730802734, 0.048376326919623604]], [0.1762283443229034, 0.0671206595115202, 0.0671206595115202, 0.1762283443229034]]\n"
     ]
    }
   ],
   "source": [
    "#computer exercise 7\n",
    "\n",
    "def get_Gs(size: int, Temp: float):\n",
    "    \"\"\"\n",
    "    size: size of the lattice\n",
    "    Temp: temperature\n",
    "    \"\"\"\n",
    "    G_MAT = np.asarray([G(y2row(i, width=size), Temp) for i in range(2 ** size)])\n",
    "    return G_MAT\n",
    "\n",
    "def get_Fs(size: int, Temp: float):\n",
    "    \"\"\"\n",
    "    size: size of the lattice\n",
    "    Temp: temperature\n",
    "    \"\"\"\n",
    "    F_MAT = np.asarray([[F(y2row(i, width=size), y2row(j, width=size), Temp) for j in range(2 ** size)] for i in\n",
    "                            range(2 ** size)])\n",
    "    return F_MAT\n",
    "\n",
    "\n",
    "def get_Ts(size,temp):\n",
    "    T = np.zeros((size - 1, 2 ** size))\n",
    "    G_MAT = get_Gs(size, temp)\n",
    "    F_MAT = get_Fs(size, temp)\n",
    "\n",
    "    for ti in range(size - 1):\n",
    "        for yi in range(2 ** size):\n",
    "            if ti == 0:\n",
    "                T[ti, yi] = np.sum([G_MAT[i] * F_MAT[i, yi] for i in range(2 ** size)]) # equation - (18)\n",
    "            else:\n",
    "                T[ti, yi] = np.sum(\n",
    "                    [T[ti - 1, i] * G_MAT[i] * F_MAT[i, yi] for i in range(2 ** size)]) # equation - (19)\n",
    "            \n",
    "    ZTemp = np.sum(T[-1, :] * G_MAT) # equation (20)\n",
    "        \n",
    "    return T, ZTemp\n",
    "\n",
    "def get_Ps(size,temp): # doesnt work correctly\n",
    "    T, ZTemp = get_Ts(size,temp)\n",
    "    G_MAT = get_Gs(size, temp)\n",
    "    F_MAT = get_Fs(size, temp)\n",
    "    P = []\n",
    "    #loop from size-1 to 0\n",
    "    for i in range(size-1,-1,-1):\n",
    "        if i == size-1:\n",
    "            P.append([T[size-2,yi]*G_MAT[yi]/ZTemp for yi in range(2**size)]) #equation (21)\n",
    "        elif i == 0:\n",
    "            P.append([G_MAT[yi]*F_MAT[yi,yj]/T[0,yj] for yi,yj in product(range(2**size),range(2**size))]) #equation (23)\n",
    "\n",
    "        else:\n",
    "            P.append([T[i-1,yi]*G_MAT[yi]*F_MAT[yi,yj]/T[i,yj] for yi,yj in product(range(2**size),range(2**size))]) #equation (22)\n",
    "\n",
    "    return P\n",
    "            \n",
    "\n",
    "\n",
    "# def calc_probs(size, ztemp):\n",
    "#     T,ztemp = get_Ts(size, ztemp)\n",
    "#     G_MAT = get_Gs(size, ztemp)\n",
    "#     F_MAT = get_Fs(size, ztemp)\n",
    "#     P = []\n",
    "#     for row in range(size - 1, -1, -1):\n",
    "#         if row == size - 1:\n",
    "#             P.insert(0, [(T[row - 1, i] * G_MAT[i]) / ztemp for i in range(2 ** size)])\n",
    "#         elif row == 0:\n",
    "#             P.insert(0, [[(G_MAT[i] * F_MAT[i, j]) / T[row, j] for j in range(2 ** size)] for i in range(2 ** size)])\n",
    "#         else:\n",
    "#             P.insert(0, [[(T[row - 1, i] * G_MAT[i] * F_MAT[i, j]) / T[row, j] for j in range(2 ** size)] for i in\n",
    "#                       range(2 ** size)])\n",
    "#     return P\n",
    "\n",
    "\n",
    "# print(get_Ps(2,1))\n",
    "# print(\"*********\")\n",
    "# print(calc_probs(2,1))"
   ]
  }
 ],
 "metadata": {
  "kernelspec": {
   "display_name": "base",
   "language": "python",
   "name": "python3"
  },
  "language_info": {
   "codemirror_mode": {
    "name": "ipython",
    "version": 3
   },
   "file_extension": ".py",
   "mimetype": "text/x-python",
   "name": "python",
   "nbconvert_exporter": "python",
   "pygments_lexer": "ipython3",
   "version": "3.10.9"
  },
  "orig_nbformat": 4
 },
 "nbformat": 4,
 "nbformat_minor": 2
}
